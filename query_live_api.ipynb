{
 "cells": [
  {
   "cell_type": "code",
   "execution_count": 1,
   "metadata": {},
   "outputs": [
    {
     "name": "stdout",
     "output_type": "stream",
     "text": [
      "200\n",
      "{'Prediction': '<=50K'}\n"
     ]
    }
   ],
   "source": [
    "import requests\n",
    "\n",
    "data = {\n",
    "    \"age\": 25,\n",
    "    \"workclass\": \"Self-emp-not-inc\",\n",
    "    \"fnlwgt\": 176756,\n",
    "    \"education\": \"HS-grad\",\n",
    "    \"education_num\": 9,\n",
    "    \"marital_status\": \"Never-married\",\n",
    "    \"occupation\": \"Farming-fishing\",\n",
    "    \"relationship\": \"Own-child\",\n",
    "    \"race\": \"White\",\n",
    "    \"sex\": \"Male\",\n",
    "    \"capital_gain\": 0,\n",
    "    \"capital_loss\": 0,\n",
    "    \"hours_per_week\": 35,\n",
    "    \"native_country\": \"United-States\"\n",
    "}\n",
    "response = requests.post('https://ml-model-fastapi-render.onrender.com/predict', json=data)\n",
    "\n",
    "print(response.status_code)\n",
    "print(response.json())\n"
   ]
  }
 ],
 "metadata": {
  "kernelspec": {
   "display_name": "Python 3",
   "language": "python",
   "name": "python3"
  },
  "language_info": {
   "codemirror_mode": {
    "name": "ipython",
    "version": 3
   },
   "file_extension": ".py",
   "mimetype": "text/x-python",
   "name": "python",
   "nbconvert_exporter": "python",
   "pygments_lexer": "ipython3",
   "version": "3.10.5"
  },
  "orig_nbformat": 4,
  "vscode": {
   "interpreter": {
    "hash": "776e39210e815edd79309a090d21cdd2f797318d55eb70209e86fed13129a5de"
   }
  }
 },
 "nbformat": 4,
 "nbformat_minor": 2
}
